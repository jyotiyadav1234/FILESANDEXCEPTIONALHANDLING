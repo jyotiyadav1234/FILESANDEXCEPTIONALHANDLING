{
 "cells": [
  {
   "cell_type": "markdown",
   "id": "8448746b",
   "metadata": {},
   "source": [
    "1. Discuss the scenarios where multithreading is preferable to multiprocessing and scenarios where multiprocessing is a better choice.\n",
    "\n",
    "Answer:\n",
    "\n",
    "Multithreading is better for I/O-bound tasks such as reading/writing files, network operations, or user input/output where threads spend a lot of time waiting.\n",
    "\n",
    "Multiprocessing is preferred for CPU-bound tasks such as data processing, image manipulation, or complex computations where tasks use a lot of CPU resources.\n",
    "\n",
    "2. Describe what a process pool is and how it helps in managing multiple processes efficiently.\n",
    "\n",
    "Answer:\n",
    "A process pool is a collection of worker processes managed by the multiprocessing.Pool class in Python. It enables efficient distribution of tasks to multiple processes, reusing them instead of creating new ones each time. This reduces overhead and improves performance when handling many tasks.\n",
    "\n",
    "3. Explain what multiprocessing is and why it is used in Python programs.\n",
    "\n",
    "\n",
    "Answer:\n",
    "Multiprocessing allows a Python program to create multiple processes, each with its own memory space. It is used to achieve true parallelism, bypassing the Global Interpreter Lock (GIL), and is especially useful for CPU-bound operations.\n",
    "\n"
   ]
  },
  {
   "cell_type": "code",
   "execution_count": 3,
   "id": "25ecd49a",
   "metadata": {},
   "outputs": [
    {
     "name": "stdout",
     "output_type": "stream",
     "text": [
      "Added: 0\n",
      "Removed: 0\n",
      "Added: 1\n",
      "Removed: 1\n",
      "Added: 2\n",
      "Removed: 2\n",
      "Added: 3\n",
      "Added: 4\n",
      "Removed: 3\n"
     ]
    }
   ],
   "source": [
    "#4. Write a Python program using multithreading where one thread adds numbers to a list, and another thread removes numbers from the list. Implement a mechanism to avoid race conditions using threading.Lock.\n",
    "#Answer (Code):\n",
    "\n",
    "\n",
    "import threading\n",
    "import time\n",
    "\n",
    "my_list = []\n",
    "lock = threading.Lock()\n",
    "\n",
    "def add_numbers():\n",
    "    for i in range(5):\n",
    "        with lock:\n",
    "            my_list.append(i)\n",
    "            print(f\"Added: {i}\")\n",
    "        time.sleep(1)\n",
    "\n",
    "def remove_numbers():\n",
    "    for _ in range(5):\n",
    "        with lock:\n",
    "            if my_list:\n",
    "                removed = my_list.pop(0)\n",
    "                print(f\"Removed: {removed}\")\n",
    "        time.sleep(1)\n",
    "\n",
    "t1 = threading.Thread(target=add_numbers)\n",
    "t2 = threading.Thread(target=remove_numbers)\n",
    "\n",
    "t1.start()\n",
    "t2.start()\n",
    "t1.join()\n",
    "t2.join()\n"
   ]
  },
  {
   "cell_type": "markdown",
   "id": "51759c5e",
   "metadata": {},
   "source": [
    "5. Describe the methods and tools available in Python for safely sharing data between threads and processes.\n",
    "\n",
    "\n",
    "Answer:\n",
    "\n",
    "For threads:\n",
    "\n",
    "threading.Lock and threading.RLock for mutual exclusion.\n",
    "\n",
    "queue.Queue for thread-safe communication.\n",
    "\n",
    "For processes:\n",
    "\n",
    "multiprocessing.Queue and multiprocessing.Pipe.\n",
    "\n",
    "multiprocessing.Manager().list() and .dict() for shared data.\n",
    "\n",
    "6. Discuss why it's crucial to handle exceptions in concurrent programs and the techniques available for doing so.\n",
    "\n",
    "\n",
    "Answer:\n",
    "In concurrent programs, unhandled exceptions in one thread/process may silently fail or crash the entire program. It's crucial to:\n",
    "\n",
    "Use try-except blocks inside threads/processes.\n",
    "\n",
    "In concurrent.futures, use .exception() or .result() to capture exceptions.\n",
    "\n",
    "Log or report errors properly for debugging and resilience.\n",
    "\n"
   ]
  },
  {
   "cell_type": "code",
   "execution_count": 4,
   "id": "e113e043",
   "metadata": {},
   "outputs": [
    {
     "name": "stdout",
     "output_type": "stream",
     "text": [
      "Factorial of 1 is 1\n",
      "Factorial of 2 is 2\n",
      "Factorial of 3 is 6\n",
      "Factorial of 4 is 24\n",
      "Factorial of 5 is 120\n",
      "Factorial of 6 is 720\n",
      "Factorial of 7 is 5040\n",
      "Factorial of 8 is 40320\n",
      "Factorial of 9 is 362880\n",
      "Factorial of 10 is 3628800\n"
     ]
    }
   ],
   "source": [
    "#7. Create a program that uses a thread pool to calculate the factorial of numbers from 1 to 10 concurrently. Use concurrent.futures.ThreadPoolExecutor to manage the threads.\n",
    "#Answer (Code):\n",
    "\n",
    "from concurrent.futures import ThreadPoolExecutor\n",
    "import math\n",
    "\n",
    "def factorial(n):\n",
    "    return f\"Factorial of {n} is {math.factorial(n)}\"\n",
    "\n",
    "with ThreadPoolExecutor() as executor:\n",
    "    results = executor.map(factorial, range(1, 11))\n",
    "\n",
    "for result in results:\n",
    "    print(result)\n"
   ]
  },
  {
   "cell_type": "code",
   "execution_count": null,
   "id": "e81bd907",
   "metadata": {},
   "outputs": [],
   "source": [
    "#8. Create a Python program that uses multiprocessing.Pool to compute the square of numbers from 1 to 10 in parallel. Measure the time taken to perform this computation using a pool of different sizes (e.g., 2, 4, 8 processes).\n",
    "#Answer (Code):\n",
    "\n",
    "from multiprocessing import Pool\n",
    "import time\n",
    "\n",
    "def square(n):\n",
    "    return n * n\n",
    "\n",
    "numbers = list(range(1, 11))\n",
    "\n",
    "for pool_size in [2, 4, 8]:\n",
    "    start_time = time.time()\n",
    "    with Pool(pool_size) as pool:\n",
    "        results = pool.map(square, numbers)\n",
    "    end_time = time.time()\n",
    "    print(f\"Pool size {pool_size} -> Results: {results} | Time taken: {end_time - start_time:.4f} seconds\")\n"
   ]
  },
  {
   "cell_type": "code",
   "execution_count": null,
   "id": "43b2ebdd",
   "metadata": {},
   "outputs": [],
   "source": []
  },
  {
   "cell_type": "code",
   "execution_count": null,
   "id": "a78e21d9",
   "metadata": {},
   "outputs": [],
   "source": []
  },
  {
   "cell_type": "code",
   "execution_count": null,
   "id": "735690c8",
   "metadata": {},
   "outputs": [],
   "source": []
  },
  {
   "cell_type": "code",
   "execution_count": null,
   "id": "75147380",
   "metadata": {},
   "outputs": [],
   "source": []
  },
  {
   "cell_type": "code",
   "execution_count": null,
   "id": "a35b836a",
   "metadata": {},
   "outputs": [],
   "source": []
  },
  {
   "cell_type": "code",
   "execution_count": null,
   "id": "939b24f0",
   "metadata": {},
   "outputs": [],
   "source": []
  }
 ],
 "metadata": {
  "kernelspec": {
   "display_name": "Python 3 (ipykernel)",
   "language": "python",
   "name": "python3"
  },
  "language_info": {
   "codemirror_mode": {
    "name": "ipython",
    "version": 3
   },
   "file_extension": ".py",
   "mimetype": "text/x-python",
   "name": "python",
   "nbconvert_exporter": "python",
   "pygments_lexer": "ipython3",
   "version": "3.11.7"
  }
 },
 "nbformat": 4,
 "nbformat_minor": 5
}
